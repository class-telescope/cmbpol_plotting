{
 "cells": [
  {
   "cell_type": "code",
   "execution_count": 1,
   "metadata": {},
   "outputs": [
    {
     "name": "stdout",
     "output_type": "stream",
     "text": [
      "Populating the interactive namespace from numpy and matplotlib\n"
     ]
    }
   ],
   "source": [
    "%pylab inline\n",
    "%load_ext autoreload\n",
    "%autoreload 2\n",
    "pylab.rcParams['figure.figsize'] = (10, 6)\n",
    "import matplotlib.pyplot as plt\n",
    "import numpy as np\n",
    "import plotting\n",
    "plt.rcParams.update({'font.size':18})"
   ]
  },
  {
   "cell_type": "code",
   "execution_count": null,
   "metadata": {},
   "outputs": [
    {
     "name": "stdout",
     "output_type": "stream",
     "text": [
      "TT 33.629448975\n"
     ]
    },
    {
     "name": "stderr",
     "output_type": "stream",
     "text": [
      "/home/dwatts/cmbpol_plotting/plotting.py:198: RuntimeWarning: invalid value encountered in sqrt\n",
      "  self.ax.errorbar(ellb[inds]**power, (-clb[inds])**0.5, xerr=xerr[inds],\n",
      "/home/dwatts/cmbpol_plotting/plotting.py:199: RuntimeWarning: invalid value encountered in sqrt\n",
      "  yerr=0.5*errb[inds]/(-clb[inds])**0.5, fmt=symbol, markerfacecolor='none',\n",
      "/home/dwatts/cmbpol_plotting/plotting.py:217: RuntimeWarning: invalid value encountered in sqrt\n",
      "  self.ax.errorbar(ellb**power, (-clb)**0.5, xerr=xerr,\n",
      "/home/dwatts/cmbpol_plotting/plotting.py:218: RuntimeWarning: invalid value encountered in sqrt\n",
      "  yerr=0.5*errb/(-clb)**0.5, fmt=symbol, markerfacecolor='none',\n",
      "/home/dwatts/cmbpol_plotting/plotting.py:337: RuntimeWarning: invalid value encountered in sqrt\n",
      "  self.ax.plot(ell[2:]**power, (-cl_theory[2:])**0.5, color, linestyle='-.', lw=lw)\n"
     ]
    },
    {
     "data": {
      "text/plain": [
       "(1.0844717711976986, 4.9593441964128315)"
      ]
     },
     "execution_count": 2,
     "metadata": {},
     "output_type": "execute_result"
    },
    {
     "name": "stderr",
     "output_type": "stream",
     "text": [
      "/etc/anaconda3/lib/python3.6/site-packages/matplotlib/figure.py:1999: UserWarning: This figure includes Axes that are not compatible with tight_layout, so results might be incorrect.\n",
      "  warnings.warn(\"This figure includes Axes that are not compatible \"\n"
     ]
    },
    {
     "data": {
      "image/png": "[encoded data removed]",
      "text/plain": [
       "<matplotlib.figure.Figure at 0x7f3c26abbeb8>"
      ]
     },
     "metadata": {},
     "output_type": "display_data"
    }
   ],
   "source": [
    "cmbplot = plotting.Plotting()\n",
    "cmbplot.default_TT_plot()\n",
    "plt.xscale('linear')\n",
    "values = np.array([2, 5, 10, 20, 50, 100, 200, 500, 1000, 2000])\n",
    "plt.xticks(values**0.2, values)\n",
    "plt.xlim([1.5**0.2, 3000**0.2])\n"
   ]
  },
  {
   "cell_type": "code",
   "execution_count": null,
   "metadata": {},
   "outputs": [],
   "source": [
    "cmbplot = plotting.Plotting()\n",
    "cmbplot.default_EE_plot()\n",
    "plt.xscale('linear')\n",
    "values = np.array([2, 5, 10, 20, 50, 100, 200, 500, 1000, 2000])\n",
    "plt.xticks(values**0.2, values)\n",
    "plt.xlim([1.5**0.2, 3000**0.2])\n"
   ]
  },
  {
   "cell_type": "code",
   "execution_count": null,
   "metadata": {},
   "outputs": [],
   "source": [
    "cmbplot = plotting.Plotting('TE', degreescale=False)\n",
    "cmbplot.default_TE_plot()\n",
    "plt.yscale('log')\n",
    "plt.xscale('linear')\n",
    "plt.ylim([0.01, 1000])\n",
    "plt.xlim([2, 2500])\n",
    "plt.xscale('linear')\n",
    "values = np.array([2, 5, 10, 20, 50, 100, 200, 500, 1000, 2000])\n",
    "plt.xticks(values**0.2, values)\n",
    "plt.xlim([1.5**0.2, 3000**0.2])\n"
   ]
  },
  {
   "cell_type": "code",
   "execution_count": null,
   "metadata": {},
   "outputs": [],
   "source": [
    "cmbplot = plotting.Plotting()\n",
    "cmbplot.default_BB_plot()\n",
    "plt.xscale('linear')\n",
    "values = np.array([2, 5, 10, 20, 50, 100, 200, 500, 1000, 2000])\n",
    "plt.xticks(values**0.2, values)\n",
    "plt.xlim([1.5**0.2, 3000**0.2])\n"
   ]
  },
  {
   "cell_type": "code",
   "execution_count": null,
   "metadata": {},
   "outputs": [],
   "source": [
    "cmbplot = plotting.Plotting()\n",
    "cmbplot.default_lensing_plot()\n",
    "plt.xscale('linear')\n",
    "values = np.array([2, 5, 10, 20, 50, 100, 200, 500, 1000, 2000])\n",
    "plt.xticks(values**0.2, values)\n",
    "plt.xlim([1.5**0.2, 3000**0.2])"
   ]
  },
  {
   "cell_type": "code",
   "execution_count": null,
   "metadata": {},
   "outputs": [],
   "source": [
    "cmbplot.list_experiments('TT')\n",
    "cmbplot.list_experiments('TE')\n",
    "cmbplot.list_experiments('EE')\n",
    "cmbplot.list_experiments('BB')\n",
    "cmbplot.list_experiments('lensing')"
   ]
  },
  {
   "cell_type": "code",
   "execution_count": null,
   "metadata": {},
   "outputs": [],
   "source": [
    "cmbplot = plotting.Plotting()\n",
    "cmbplot.default_TT_plot()\n",
    "cmbplot.default_EE_plot()\n",
    "cmbplot.default_BB_plot()\n",
    "cmbplot.default_TE_plot()\n",
    "cmbplot.default_TT_plot()\n",
    "#plt.yscale('symlog',linthreshy=1e-3)\n",
    "plt.xscale('linear')\n",
    "values = np.array([2, 5, 10, 20, 50, 100, 200, 500, 1000, 2000])\n",
    "plt.xticks(values**0.2, values)\n",
    "plt.xlim([1.5**0.2, 3000**0.2])\n"
   ]
  },
  {
   "cell_type": "code",
   "execution_count": null,
   "metadata": {},
   "outputs": [],
   "source": [
    "cmbplot.plot_theory('BB', 'k')\n",
    "#plt.xscale('linear')\n",
    "#plt.xlim([1.5**0.2, 3000**0.2])\n"
   ]
  },
  {
   "cell_type": "code",
   "execution_count": null,
   "metadata": {},
   "outputs": [],
   "source": [
    "cmbplot = plotting.Plotting()\n",
    "cmbplot.default_TE_plot()\n",
    "plt.yscale('log')\n",
    "plt.ylim([0.01,1000])\n",
    "plt.xscale('linear')\n",
    "plt.xlim([1.5**0.2, 3000**0.2])"
   ]
  },
  {
   "cell_type": "code",
   "execution_count": null,
   "metadata": {
    "scrolled": false
   },
   "outputs": [],
   "source": [
    "#import seaborn as sns\n",
    "#sns.set_palette(sns.color_palette('colorblind'))\n",
    "from matplotlib import ticker\n",
    "cmbplot = plotting.Plotting()\n",
    "cmbplot.default_BB_plot()\n",
    "cmbplot.default_EE_plot()\n",
    "cmbplot.default_TE_plot()\n",
    "cmbplot.default_TT_plot()\n",
    "\n",
    "\n",
    "#print(handles)\n",
    "#print(labels)\n",
    "#plt.legend(loc='best')\n",
    "l1, = plt.plot([],[],'v',color='k',label=r'\\textsl{WMAP}')\n",
    "l2, = plt.plot([],[],'^',color='k',label=r'\\textsl{Planck}')\n",
    "l3, = plt.plot([],[],'<',color='k',label=r'ACTPol')\n",
    "l4, = plt.plot([],[],'>',color='k',label=r'SPTPol')\n",
    "l5, = plt.plot([],[],'s',color='k',label=r'\\textsc{Polarbear}')\n",
    "l6, = plt.plot([],[],'p',color='k',label=r'BICEP/\\textsl{Keck}')\n",
    "l11, = plt.plot([],[],'o',markerfacecolor='none', markeredgecolor='k', label=r'Negative values')\n",
    "l7, = plt.plot([],[],color='C0', label=r'TT')\n",
    "l8, = plt.plot([],[],color='C1', label=r'TE, positive')\n",
    "l12, = plt.plot([], [], color='C1', linestyle='-.', label='TE, negative')\n",
    "l9, = plt.plot([],[],color='C2', label=r'EE')\n",
    "l10, = plt.plot([],[],color='C3', label=r'BB, $r=0.07$')\n",
    "l13, = plt.plot([],[],color='C3', linestyle='--',label=r'BB, lensing')\n",
    "l14, = plt.plot([],[],color='C3', linestyle=':', label=r'BB, total')\n",
    "\n",
    "\n",
    "\n",
    "#l7, = plt.plot([],[],'o',color='C9',label=r'SPTPol (2017)')\n",
    "ax = plt.gca()\n",
    "plt.xlabel(r'$\\ell$')\n",
    "\n",
    "\n",
    "axes = [ax, ax.twiny()]\n",
    "\n",
    "#axes[0].set_ylim([1e4, 5e-5])\n",
    "#plt.xlim([np.log10(1.5), np.log10(3000)])\n",
    "axes[0].set_ylim([1e-2, 1e2])\n",
    "axes[0].set_xlim([1.5**0.2, 3000**0.2])\n",
    "axes[0].set_xscale('linear')\n",
    "\n",
    "values = np.array([2, 5, 10, 20, 50, 100, 200, 500, 1000, 2000])\n",
    "axes[0].set_xticks(values**0.2)\n",
    "axes[0].get_xaxis().set_major_formatter(matplotlib.ticker.FixedFormatter(values))\n",
    "\n",
    "min_theta =  3000**0.2\n",
    "max_theta = 1.5**0.2\n",
    "#min_theta = 180/4500\n",
    "#max_theta = 180/2\n",
    "axes[1].set_xscale('linear')\n",
    "axes[1].set_xlim(max_theta, min_theta)\n",
    "values = np.array([2, 5, 10, 20, 50, 100, 200, 500, 1000, 2000])\n",
    "labels = 180/values\n",
    "labels = np.array(['90', '5', '1', '0.3', '0.1'])\n",
    "values = 180/labels.astype('float')\n",
    "print(values**0.2, labels)\n",
    "axes[1].set_xticks([float(x)**0.2 for x in values])\n",
    "import matplotlib\n",
    "axes[1].get_xaxis().set_major_formatter(matplotlib.ticker.FixedFormatter(['$%s^{\\circ}$' % x for x in labels]))\n",
    "axes[1].yaxis.set_major_formatter(ticker.FuncFormatter(lambda y,pos: ('{{:.{:1d}f}}'.format(int(np.maximum(-np.log10(y),0)))).format(y)))\n",
    "\n",
    "axes[1].set_xlabel(r'Angular Scale $\\theta$')\n",
    "axes[1].xaxis.set_label_coords(0.5, 1.11)\n",
    "axes[0].set_ylabel(r'$\\displaystyle{\\sqrt{\\frac{\\ell (\\ell+1)C_\\ell}{2\\pi}}}$ [$\\mathrm{\\mu K}$]',\\\n",
    "                   fontsize=20)#, rotation=0)\n",
    "#axes[0].yaxis.set_label_coords(-0.1,0.5)\n",
    "\n",
    "\n",
    "plt.text(1, -0.15, r'Watts/Bennett/\\texttt{v0.1}/2017', transform=axes[1].transAxes, ha='right')\n",
    "'''\n",
    "ax.legend(bbox_to_anchor=(1, 1.05), handles=[l1,l2,l3,l4,l5,l6,l11,l7,l8,l12,l9,l10,l13,l14], loc=2)\n",
    "plt.savefig('cmb_data_plot.pdf', bbox_inches='tight')\n",
    "plt.savefig('cmb_data_plot.png', bbox_inches='tight', dpi=300)\n",
    "'''\n",
    "plt.savefig('cmb_data_plot_nolegend.pdf', bbox_inches='tight')\n",
    "plt.savefig('cmb_data_plot_nolegend.png', bbox_inches='tight', dpi=300)\n"
   ]
  },
  {
   "cell_type": "code",
   "execution_count": null,
   "metadata": {},
   "outputs": [],
   "source": [
    "cmbplot = plotting.Plotting()\n",
    "cmbplot.default_BB_plot()\n",
    "cmbplot.default_EE_plot()\n",
    "cmbplot.default_TE_plot()\n",
    "cmbplot.default_TT_plot()\n",
    "\n",
    "ax = plt.gca()\n",
    "handles, labels = ax.get_legend_handles_labels()\n",
    "\n",
    "#print(handles)\n",
    "#print(labels)\n",
    "#plt.legend(loc='best')\n",
    "l1, = plt.plot([],[],'v',color='k',label=r'\\textsl{WMAP}')\n",
    "l2, = plt.plot([],[],'^',color='k',label=r'\\textsl{Planck}')\n",
    "l3, = plt.plot([],[],'<',color='k',label=r'ACTPol')\n",
    "l4, = plt.plot([],[],'>',color='k',label=r'SPTPol')\n",
    "l5, = plt.plot([],[],'s',color='k',label=r'\\textsc{Polarbear}')\n",
    "l6, = plt.plot([],[],'p',color='k',label=r'BICEP/\\textsl{Keck}')\n",
    "#l7, = plt.plot([],[],'o',color='C9',label=r'SPTPol (2017)')\n",
    "ax = plt.gca()\n",
    "ax.legend(bbox_to_anchor=(1, 0.5), handles=[l1,l2,l3,l4,l5,l6])\n",
    "plt.xscale('linear')\n",
    "plt.yscale('log')\n",
    "#plt.xlim([1.5, 3000])\n",
    "plt.xlim([1.5**0.2, 3000**0.2])\n",
    "plt.ylim([1e-2, 1e2])\n",
    "\n",
    "values = np.array([2, 5, 10, 20, 50, 100, 200, 500, 1000, 2000])\n",
    "plt.xticks(values**0.2, values)\n"
   ]
  },
  {
   "cell_type": "code",
   "execution_count": null,
   "metadata": {},
   "outputs": [],
   "source": [
    "cmbplot = plotting.Plotting()\n",
    "cmbplot.plot_theory('BB-inf', 'C9', r=2e-4)\n",
    "cmbplot.plot_theory('BB-inf', 'C0', r=0.01)\n",
    "cmbplot.plot_theory('BB-inf', 'C1', r=0.02)\n",
    "cmbplot.plot_theory('BB-inf', 'C2', r=0.04)\n",
    "cmbplot.plot_theory('BB-inf', 'C3', r=0.08)\n",
    "cmbplot.plot_theory('BB-inf', 'C4', r=0.16)\n",
    "cmbplot.plot_theory('BB-inf', 'C5', r=1)\n",
    "cmbplot.plot_theory('BB', 'C9', r=2e-4)\n",
    "cmbplot.plot_theory('BB', 'C0', r=0.01)\n",
    "cmbplot.plot_theory('BB', 'C1', r=0.02)\n",
    "cmbplot.plot_theory('BB', 'C2', r=0.04)\n",
    "cmbplot.plot_theory('BB', 'C3', r=0.08)\n",
    "cmbplot.plot_theory('BB', 'C4', r=0.16)\n",
    "cmbplot.plot_theory('BB', 'C5', r=1)\n",
    "cmbplot.plot_theory('BB-lens', 'k')\n",
    "\n",
    "\n",
    "plt.xlim([1.5**0.2, 3000**0.2])\n",
    "plt.ylim([1e-7, 2e-1])\n",
    "plt.xscale('linear')\n",
    "plt.yscale('log')\n",
    "values = np.array([2, 5, 10, 20, 50, 100, 200, 500, 1000, 2000])\n",
    "plt.xticks(values**0.2, values)\n"
   ]
  },
  {
   "cell_type": "code",
   "execution_count": null,
   "metadata": {
    "collapsed": true
   },
   "outputs": [],
   "source": [
    "BB_amps = np.array([0.011249, 0.015847, 0.022367, 0.0316009, 0.044668])\n",
    "rs = np.array([0.01, 0.02, 0.04, 0.08, 0.16])\n",
    "inds = rs/rs[0]"
   ]
  },
  {
   "cell_type": "code",
   "execution_count": null,
   "metadata": {},
   "outputs": [],
   "source": [
    "BB_amps/BB_amps[0]/inds**0.5"
   ]
  },
  {
   "cell_type": "code",
   "execution_count": null,
   "metadata": {},
   "outputs": [],
   "source": [
    "0.011249288696**2"
   ]
  },
  {
   "cell_type": "code",
   "execution_count": null,
   "metadata": {
    "collapsed": true
   },
   "outputs": [],
   "source": []
  }
 ],
 "metadata": {
  "kernelspec": {
   "display_name": "Python 3 (Anaconda)",
   "language": "python",
   "name": "python3-anaconda"
  },
  "language_info": {
   "codemirror_mode": {
    "name": "ipython",
    "version": 3
   },
   "file_extension": ".py",
   "mimetype": "text/x-python",
   "name": "python",
   "nbconvert_exporter": "python",
   "pygments_lexer": "ipython3",
   "version": "3.6.3"
  }
 },
 "nbformat": 4,
 "nbformat_minor": 2
}
